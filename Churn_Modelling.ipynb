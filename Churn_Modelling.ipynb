{
 "cells": [
  {
   "cell_type": "markdown",
   "metadata": {},
   "source": [
    "# Hệ thống dự đoán khách hàng rời bỏ ngân hàng\n",
    "Hệ thống Dự đoán Ngân hàng là một dự án nhằm dự đoán khách hàng sẽ rời bỏ ngân hàng hay không, dựa trên dữ liệu lịch sử về hành vi của khách hàng. Các đặc điểm chính của tập dữ liệu bao gồm thông tin nhân khẩu học của khách hàng, thông tin tài chính và các yếu tố liên quan đến hành vi (chẳng hạn như số dư, điểm tín dụng, thời gian gắn bó, v.v.). Biến mục tiêu là \"Exited\", cho biết liệu khách hàng đã rời ngân hàng hay chưa (1 = Có, 0 = Không)."
   ]
  },
  {
   "cell_type": "markdown",
   "metadata": {},
   "source": [
    "\n",
    "# Load Data\n"
   ]
  },
  {
   "cell_type": "code",
   "execution_count": 11,
   "metadata": {},
   "outputs": [
    {
     "name": "stdout",
     "output_type": "stream",
     "text": [
      "<class 'pandas.core.frame.DataFrame'>\n",
      "RangeIndex: 10000 entries, 0 to 9999\n",
      "Data columns (total 14 columns):\n",
      " #   Column           Non-Null Count  Dtype  \n",
      "---  ------           --------------  -----  \n",
      " 0   RowNumber        10000 non-null  int64  \n",
      " 1   CustomerId       10000 non-null  int64  \n",
      " 2   Surname          10000 non-null  object \n",
      " 3   CreditScore      10000 non-null  int64  \n",
      " 4   Geography        10000 non-null  object \n",
      " 5   Gender           10000 non-null  object \n",
      " 6   Age              10000 non-null  int64  \n",
      " 7   Tenure           10000 non-null  int64  \n",
      " 8   Balance          10000 non-null  float64\n",
      " 9   NumOfProducts    10000 non-null  int64  \n",
      " 10  HasCrCard        10000 non-null  int64  \n",
      " 11  IsActiveMember   10000 non-null  int64  \n",
      " 12  EstimatedSalary  10000 non-null  float64\n",
      " 13  Exited           10000 non-null  int64  \n",
      "dtypes: float64(2), int64(9), object(3)\n",
      "memory usage: 1.1+ MB\n",
      "None\n",
      "   RowNumber  CustomerId   Surname  CreditScore  Age  Tenure    Balance  \\\n",
      "0          1    15634602  Hargrave          619   42       2       0.00   \n",
      "1          2    15647311      Hill          608   41       1   83807.86   \n",
      "2          3    15619304      Onio          502   42       8  159660.80   \n",
      "3          4    15701354      Boni          699   39       1       0.00   \n",
      "4          5    15737888  Mitchell          850   43       2  125510.82   \n",
      "\n",
      "   NumOfProducts  HasCrCard  IsActiveMember  EstimatedSalary  Exited  \\\n",
      "0              1          1               1        101348.88       1   \n",
      "1              1          0               1        112542.58       0   \n",
      "2              3          1               0        113931.57       1   \n",
      "3              2          0               0         93826.63       0   \n",
      "4              1          1               1         79084.10       0   \n",
      "\n",
      "   Geography_Germany  Geography_Spain  Gender_Male  \n",
      "0              False            False        False  \n",
      "1              False             True        False  \n",
      "2              False            False        False  \n",
      "3              False            False        False  \n",
      "4              False             True        False  \n"
     ]
    }
   ],
   "source": [
    "\n",
    "import pandas as pd\n",
    "import numpy as np\n",
    "\n",
    "# Load dataset\n",
    "df = pd.read_csv('Churn_Modelling.csv')\n",
    "\n",
    "# Kiểm tra kiểu dữ liệu và mất mát dữ liệu\n",
    "print(df.info())\n",
    "\n",
    "df = df.dropna()\n",
    "\n",
    "# Biến 2 trường 'Geography', 'Gender' thành biến giả\n",
    "df = pd.get_dummies(df, columns=['Geography', 'Gender'], drop_first=True)\n",
    "\n",
    "print(df.head())"
   ]
  },
  {
   "cell_type": "markdown",
   "metadata": {},
   "source": [
    "# Tiền xử lí dữ liệu\n",
    "- Tạo thêm một đặc trưng mới để cải thiện độ chính xác\n",
    "- Xác định các cột không phải số hoặc các giá trị có vấn đề\n",
    "- Thay thế hoặc loại bỏ các giá trị có vấn đề"
   ]
  },
  {
   "cell_type": "code",
   "execution_count": 12,
   "metadata": {},
   "outputs": [
    {
     "name": "stdout",
     "output_type": "stream",
     "text": [
      "0    0.000000\n",
      "1    0.744677\n",
      "2    1.401375\n",
      "3    0.000000\n",
      "4    1.587055\n",
      "Name: BalanceSalaryRatio, dtype: float64\n"
     ]
    }
   ],
   "source": [
    "# Tạo thêm đặc trưng BalanceSalaryRatio\n",
    "df['BalanceSalaryRatio'] = df['Balance'] / df['EstimatedSalary']\n",
    "print(df['BalanceSalaryRatio'].head())"
   ]
  },
  {
   "cell_type": "code",
   "execution_count": 13,
   "metadata": {},
   "outputs": [
    {
     "name": "stdout",
     "output_type": "stream",
     "text": [
      "Non-numeric values found in column: Surname\n",
      "['Hargrave' 'Hill' 'Onio' ... 'Kashiwagi' 'Aldridge' 'Burbidge']\n"
     ]
    }
   ],
   "source": [
    "# Xác định các cột không phải số hoặc các giá trị có vấn đề\n",
    "for column in df.columns:\n",
    "    if df[column].dtype == object:\n",
    "        print(f\"Non-numeric values found in column: {column}\")\n",
    "        print(df[column].unique())  # Print unique values to inspect\n",
    "# Thay thế hoặc loại bỏ các giá trị có vấn đề\n",
    "df = df.replace(\"P'an\", np.nan)  # Thay thế các giá trị P'an thành NaN\n",
    "\n",
    "# Loại bỏ các hàng chứa giá trị NaN\n",
    "df = df.dropna()\n"
   ]
  },
  {
   "cell_type": "markdown",
   "metadata": {},
   "source": [
    "# Huấn luyện mô hình\n",
    "Hồi quy tuyến tính"
   ]
  },
  {
   "cell_type": "code",
   "execution_count": 14,
   "metadata": {},
   "outputs": [
    {
     "name": "stdout",
     "output_type": "stream",
     "text": [
      "Accuracy: 0.8214107053526764\n",
      "Precision: 0.6818181818181818\n"
     ]
    }
   ],
   "source": [
    "import pandas as pd\n",
    "from sklearn.model_selection import train_test_split\n",
    "from sklearn.linear_model import LinearRegression\n",
    "from sklearn.metrics import accuracy_score, precision_score\n",
    "\n",
    "# Loại bỏ cột không cần thiết\n",
    "df = df.drop(columns=['RowNumber','CustomerId','Surname'])\n",
    "\n",
    "# Chia tập dữ liệu\n",
    "X = df.drop('Exited', axis=1)  # 'Exited' là giá trị cần dự đoán\n",
    "y = df['Exited']\n",
    "\n",
    "X_train, X_test, y_train, y_test = train_test_split(X, y, test_size=0.2, random_state=42)\n",
    "\n",
    "# Huấn luyện với mô hình hồi quy tuyến tính\n",
    "lr = LinearRegression()\n",
    "lr.fit(X_train, y_train)\n",
    "\n",
    "# Dự đoán trên tập kiểm tra\n",
    "y_pred = lr.predict(X_test)\n",
    "\n",
    "\n",
    "# Chuyển đổi các giá trị liên tục thành các giá trị nhị phân cho phân loại\n",
    "y_pred_binary = [1 if pred >= 0.5 else 0 for pred in y_pred]\n",
    "\n",
    "# Đánh giá mô hình\n",
    "accuracy_lr = accuracy_score(y_test, y_pred_binary)\n",
    "precision_lr = precision_score(y_test, y_pred_binary)\n",
    "\n",
    "print(f'Accuracy: {accuracy_lr}')\n",
    "print(f'Precision: {precision_lr}')\n"
   ]
  },
  {
   "cell_type": "code",
   "execution_count": 15,
   "metadata": {},
   "outputs": [
    {
     "name": "stdout",
     "output_type": "stream",
     "text": [
      "Ridge MSE: 0.17858929464732365\n"
     ]
    }
   ],
   "source": [
    "from sklearn.linear_model import Ridge\n",
    "from sklearn.metrics import accuracy_score, precision_score\n",
    "from sklearn.metrics import mean_squared_error\n",
    "\n",
    "# Huấn luyện với mô hình Ridge\n",
    "ridge = Ridge(alpha=0.001)\n",
    "ridge.fit(X_train, y_train)\n",
    "y_pred_ridge = ridge.predict(X_test)\n",
    "y_pred_ridge_binary = [1 if pred >= 0.5 else 0 for pred in y_pred_ridge]\n",
    "\n",
    "# Đánh giá mô hình\n",
    "mse_ridge = mean_squared_error(y_test, y_pred_ridge_binary)\n",
    "print(f'Ridge MSE: {mse_ridge}')"
   ]
  },
  {
   "cell_type": "code",
   "execution_count": 16,
   "metadata": {},
   "outputs": [
    {
     "name": "stdout",
     "output_type": "stream",
     "text": [
      "Mean Squared Error: 0.1331369554662284\n",
      "R-squared: 0.15052865736319565\n"
     ]
    }
   ],
   "source": [
    "from sklearn.neural_network import MLPRegressor\n",
    "from sklearn.metrics import mean_squared_error, r2_score\n",
    "\n",
    "neural_nw = MLPRegressor(hidden_layer_sizes=100,activation='relu',solver='sgd',max_iter=1000,random_state=42,alpha=0.0001,learning_rate=\"constant\")\n",
    "\n",
    "neural_nw.fit(X_train,y_train)\n",
    "y_pred_neural_nw = neural_nw.predict(X_test)\n",
    "y_pred_neural_nw_binary = [1 if pred >= 0.5 else 0 for pred in y_pred_neural_nw]\n",
    "\n",
    "# Đánh giá mô hình\n",
    "mse = mean_squared_error(y_test, y_pred)\n",
    "r2 = r2_score(y_test, y_pred)\n",
    "\n",
    "print(f'Mean Squared Error: {mse}')\n",
    "print(f'R-squared: {r2}')"
   ]
  },
  {
   "cell_type": "markdown",
   "metadata": {},
   "source": [
    "# Ma trận lỗi"
   ]
  },
  {
   "cell_type": "code",
   "execution_count": 25,
   "metadata": {},
   "outputs": [
    {
     "name": "stdout",
     "output_type": "stream",
     "text": [
      "Ma trận lỗi Linear Regression:\n",
      "[[1582   28]\n",
      " [ 329   60]]\n"
     ]
    },
    {
     "data": {
      "image/png": "[encoded data removed]",
      "text/plain": [
       "<Figure size 640x480 with 2 Axes>"
      ]
     },
     "metadata": {},
     "output_type": "display_data"
    },
    {
     "name": "stdout",
     "output_type": "stream",
     "text": [
      "\n",
      "Ma trận lỗi Matrix Ridge:\n",
      "[[1582   28]\n",
      " [ 329   60]]\n"
     ]
    },
    {
     "data": {
      "image/png": "[encoded data removed]",
      "text/plain": [
       "<Figure size 640x480 with 2 Axes>"
      ]
     },
     "metadata": {},
     "output_type": "display_data"
    },
    {
     "name": "stdout",
     "output_type": "stream",
     "text": [
      "\n",
      "Ma trận lỗi Neural network:\n",
      "[[   0 1610]\n",
      " [   0  389]]\n"
     ]
    },
    {
     "data": {
      "image/png": "[encoded data removed]",
      "text/plain": [
       "<Figure size 640x480 with 2 Axes>"
      ]
     },
     "metadata": {},
     "output_type": "display_data"
    }
   ],
   "source": [
    "from sklearn.metrics import confusion_matrix\n",
    "import matplotlib.pyplot as plt\n",
    "import seaborn as sns\n",
    "conf_matrix_lr = confusion_matrix(y_test, y_pred_binary)\n",
    "conf_matrix_ridge = confusion_matrix(y_test, y_pred_ridge_binary)\n",
    "conf_matrix_nnw = confusion_matrix(y_test, y_pred_neural_nw_binary)\n",
    "\n",
    "print(\"Ma trận lỗi Linear Regression:\")\n",
    "print(conf_matrix_lr)\n",
    "# Vẽ ma trận nhầm lẫn bằng seaborn\n",
    "sns.heatmap(conf_matrix_lr, annot=True, fmt='d')\n",
    "plt.xlabel('Predicted')\n",
    "plt.ylabel('True')\n",
    "plt.title('Confusion Matrix Linear Regression')\n",
    "plt.show()\n",
    "\n",
    "print(\"\\nMa trận lỗi Matrix Ridge:\")\n",
    "print(conf_matrix_ridge)\n",
    "sns.heatmap(conf_matrix_ridge, annot=True, fmt='d')\n",
    "plt.xlabel('Predicted')\n",
    "plt.ylabel('True')\n",
    "plt.title('Confusion Matrix Ridge')\n",
    "plt.show()\n",
    "\n",
    "print(\"\\nMa trận lỗi Neural network:\")\n",
    "print(conf_matrix_nnw)\n",
    "sns.heatmap(conf_matrix_nnw, annot=True, fmt='d')\n",
    "plt.xlabel('Predicted')\n",
    "plt.ylabel('True')\n",
    "plt.title('Confusion Matrix Nerual network')\n",
    "plt.show()"
   ]
  },
  {
   "cell_type": "markdown",
   "metadata": {},
   "source": [
    "# Tối ưu hoá mô hình"
   ]
  },
  {
   "cell_type": "code",
   "execution_count": 18,
   "metadata": {},
   "outputs": [
    {
     "name": "stdout",
     "output_type": "stream",
     "text": [
      "Best Ridge alpha: {'alpha': 0.0001}\n"
     ]
    }
   ],
   "source": [
    "from sklearn.model_selection import GridSearchCV\n",
    "ridge_params = {'alpha': [0.0001,0.001,0.01, 0.1, 1.0, 10.0, 100.0]}\n",
    "\n",
    "ridge = Ridge()\n",
    "\n",
    "ridge_grid = GridSearchCV(ridge, ridge_params, cv=5, scoring='neg_mean_squared_error', n_jobs=-1)\n",
    "ridge_grid.fit(X_train, y_train)\n",
    "\n",
    "# Giá trị tối ưu nhất\n",
    "print(f\"Best Ridge alpha: {ridge_grid.best_params_}\")"
   ]
  },
  {
   "cell_type": "code",
   "execution_count": 19,
   "metadata": {},
   "outputs": [
    {
     "name": "stdout",
     "output_type": "stream",
     "text": [
      "Accuracy: 0.822911455727864\n",
      "Precision: 0.7011494252873564\n"
     ]
    }
   ],
   "source": [
    "\n",
    "from sklearn.feature_selection import SelectKBest, f_regression\n",
    "\n",
    "# Tìm ra các đặc trưng tốt nhất\n",
    "selector = SelectKBest(f_regression, k=10)\n",
    "X_train_new = selector.fit_transform(X_train, y_train)\n",
    "X_test_new = selector.transform(X_test)\n",
    "\n",
    "# Re-train\n",
    "lr.fit(X_train_new, y_train)\n",
    "\n",
    "# Dự đoán trên tập kiểm tra\n",
    "y_pred_lr_new = lr.predict(X_test_new)\n",
    "\n",
    "\n",
    "# Chuyển đổi các giá trị liên tục thành các giá trị nhị phân cho phân loại\n",
    "y_pred_binary_new = [1 if pred >= 0.5 else 0 for pred in y_pred_lr_new]\n",
    "\n",
    "# Đánh giá mô hình\n",
    "accuracy_lr_new = accuracy_score(y_test, y_pred_binary_new)\n",
    "precision_lr_new = precision_score(y_test, y_pred_binary_new)\n",
    "\n",
    "print(f'Accuracy: {accuracy_lr_new}')\n",
    "print(f'Precision: {precision_lr_new}')\n"
   ]
  },
  {
   "cell_type": "code",
   "execution_count": 20,
   "metadata": {},
   "outputs": [
    {
     "name": "stdout",
     "output_type": "stream",
     "text": [
      "{'activation': 'tanh', 'alpha': np.float64(0.03526441394796338), 'hidden_layer_sizes': 55, 'learning_rate': 'constant'}\n",
      "0.7938196667034543\n"
     ]
    }
   ],
   "source": [
    "from sklearn.model_selection import RandomizedSearchCV\n",
    "from sklearn.neural_network import MLPClassifier\n",
    "from scipy.stats import uniform, randint\n",
    "\n",
    "# Tạo dữ liệu mẫu\n",
    "# ...\n",
    "\n",
    "# Khởi tạo mô hình\n",
    "model = MLPClassifier()\n",
    "\n",
    "# Định nghĩa không gian tham số\n",
    "param_dist = {\n",
    "    'hidden_layer_sizes': [(int(x)) for x in np.linspace(start = 0, stop = 500, num = 10)],\n",
    "    'activation': ['relu', 'tanh'],\n",
    "    'alpha': uniform(loc=0.0001, scale=0.05),\n",
    "    'learning_rate': ['constant','adaptive'],\n",
    "}\n",
    "\n",
    "# Tìm kiếm các tham số tốt nhất\n",
    "random_search = RandomizedSearchCV(model, param_distributions=param_dist, n_iter=10, cv=5)\n",
    "random_search.fit(X_train, y_train)\n",
    "\n",
    "# In kết quả\n",
    "print(random_search.best_params_)\n",
    "print(random_search.best_score_)"
   ]
  },
  {
   "cell_type": "code",
   "execution_count": 21,
   "metadata": {},
   "outputs": [
    {
     "name": "stdout",
     "output_type": "stream",
     "text": [
      "Độ chính xác trên tập huấn luyện: 0.014974228011459423\n",
      "Độ chính xác trên tập kiểm tra: 0.011055878980691825\n"
     ]
    }
   ],
   "source": [
    "from sklearn.neural_network import MLPRegressor\n",
    "from sklearn.metrics import mean_squared_error, r2_score\n",
    "\n",
    "neural_nw_new = MLPRegressor(hidden_layer_sizes=(10,500),activation='tanh',solver='sgd',max_iter=1000,random_state=42,alpha=0.0003512748675747079,learning_rate=\"adaptive\")\n",
    "\n",
    "neural_nw_new.fit(X_train,y_train)\n",
    "y_pred_neural_nw_new = neural_nw_new.predict(X_test)\n",
    "y_pred_neural_nw_binary_new = [1 if pred >= 0.5 else 0 for pred in y_pred_neural_nw_new]\n",
    "\n",
    "# Đánh giá mô hình\n",
    "\n",
    "train_score = neural_nw_new.score(X_train, y_train)\n",
    "print(\"Độ chính xác trên tập huấn luyện:\", train_score)\n",
    "test_score = neural_nw_new.score(X_test, y_test)\n",
    "print(\"Độ chính xác trên tập kiểm tra:\", test_score)"
   ]
  }
 ],
 "metadata": {
  "kernelspec": {
   "display_name": "venv",
   "language": "python",
   "name": "python3"
  },
  "language_info": {
   "codemirror_mode": {
    "name": "ipython",
    "version": 3
   },
   "file_extension": ".py",
   "mimetype": "text/x-python",
   "name": "python",
   "nbconvert_exporter": "python",
   "pygments_lexer": "ipython3",
   "version": "3.12.7"
  }
 },
 "nbformat": 4,
 "nbformat_minor": 2
}
